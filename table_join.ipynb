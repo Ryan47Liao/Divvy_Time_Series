{
 "cells": [
  {
   "cell_type": "code",
   "execution_count": 1,
   "metadata": {},
   "outputs": [],
   "source": [
    "import pandas as pd "
   ]
  },
  {
   "cell_type": "code",
   "execution_count": 3,
   "metadata": {},
   "outputs": [],
   "source": [
    "df_ts_in_1719 = pd.read_csv('E:\\Data\\divvy/TS_in_1719_ts_pivot.csv')\n",
    "df_ts_out_1719 = pd.read_csv('E:\\Data\\divvy/TS_OUT_1719_ts_pivot.csv')\n",
    "df_ts_in_1921 = pd.read_csv('E:\\Data\\divvy\\TimeS/df_in_main_2019_2021.csv')\n",
    "df_ts_out_1921 = pd.read_csv('E:\\Data\\divvy\\TimeS/df_out_main_2019_2021.csv')"
   ]
  },
  {
   "cell_type": "code",
   "execution_count": 4,
   "metadata": {},
   "outputs": [],
   "source": [
    "df_final_sample = pd.read_csv('E:\\Data\\divvy/df_ts_balance_1721.csv',nrows=10)"
   ]
  },
  {
   "cell_type": "code",
   "execution_count": 18,
   "metadata": {},
   "outputs": [],
   "source": [
    "def MERGE(df_a,df_b):\n",
    "    df_a = df_a[df_final_sample.columns].set_index('time_stamp',drop=True)\n",
    "    df_b = df_b[df_final_sample.columns].query('time_stamp > \"2019-09-30 23:40:00\"').set_index('time_stamp',drop=True)\n",
    "    return pd.concat([df_a,df_b])"
   ]
  },
  {
   "cell_type": "code",
   "execution_count": 19,
   "metadata": {},
   "outputs": [],
   "source": [
    "df_ts_in_1721 = MERGE(df_ts_in_1719,df_ts_in_1921)"
   ]
  },
  {
   "cell_type": "code",
   "execution_count": 20,
   "metadata": {},
   "outputs": [],
   "source": [
    "df_ts_out_1721 = MERGE(df_ts_out_1719,df_ts_out_1921)"
   ]
  },
  {
   "cell_type": "code",
   "execution_count": 22,
   "metadata": {},
   "outputs": [],
   "source": [
    "df_ts_in_1721.to_csv('E:\\Data\\divvy/df_ts_in_1721.csv')\n",
    "df_ts_out_1721.to_csv('E:\\Data\\divvy/df_ts_out_1721.csv')"
   ]
  }
 ],
 "metadata": {
  "interpreter": {
   "hash": "51a7bf737bf6718c23aa77cd2d8731d550543385b29b1ef866b66571bc75d835"
  },
  "kernelspec": {
   "display_name": "Python 3.8.0 ('msca')",
   "language": "python",
   "name": "python3"
  },
  "language_info": {
   "codemirror_mode": {
    "name": "ipython",
    "version": 3
   },
   "file_extension": ".py",
   "mimetype": "text/x-python",
   "name": "python",
   "nbconvert_exporter": "python",
   "pygments_lexer": "ipython3",
   "version": "3.8.0"
  },
  "orig_nbformat": 4
 },
 "nbformat": 4,
 "nbformat_minor": 2
}
