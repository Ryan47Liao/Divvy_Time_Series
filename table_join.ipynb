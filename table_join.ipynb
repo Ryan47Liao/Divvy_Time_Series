{
 "cells": [
  {
   "cell_type": "markdown",
   "metadata": {},
   "source": [
    "### Data-Enginering: Joining Tables\n",
    "This notebook is dedicated to joining tables to create a larger table goes from 2017 -> 2019 "
   ]
  },
  {
   "cell_type": "code",
   "execution_count": null,
   "metadata": {},
   "outputs": [],
   "source": [
    "import pandas as pd "
   ]
  },
  {
   "cell_type": "code",
   "execution_count": null,
   "metadata": {},
   "outputs": [],
   "source": [
    "df_triphist_1921 = pd.read_csv('')"
   ]
  },
  {
   "cell_type": "code",
   "execution_count": null,
   "metadata": {},
   "outputs": [],
   "source": [
    "df_ts_in_1719 = pd.read_csv('E:\\Data\\divvy/TS_in_1719_ts_pivot.csv')\n",
    "df_ts_out_1719 = pd.read_csv('E:\\Data\\divvy/TS_OUT_1719_ts_pivot.csv')\n",
    "df_ts_in_1921 = pd.read_csv('E:\\Data\\divvy\\TimeS/df_in_main_2019_2021.csv')\n",
    "df_ts_out_1921 = pd.read_csv('E:\\Data\\divvy\\TimeS/df_out_main_2019_2021.csv')"
   ]
  },
  {
   "cell_type": "code",
   "execution_count": null,
   "metadata": {},
   "outputs": [],
   "source": [
    "df_final_sample = pd.read_csv('E:\\Data\\divvy/df_ts_balance_1721.csv',nrows=10)"
   ]
  },
  {
   "cell_type": "code",
   "execution_count": null,
   "metadata": {},
   "outputs": [],
   "source": [
    "def MERGE(df_a,df_b):\n",
    "    df_a = df_a[df_final_sample.columns].set_index('time_stamp',drop=True)\n",
    "    df_b = df_b[df_final_sample.columns].query('time_stamp > \"2019-09-30 23:40:00\"').set_index('time_stamp',drop=True)\n",
    "    return pd.concat([df_a,df_b])"
   ]
  },
  {
   "cell_type": "code",
   "execution_count": null,
   "metadata": {},
   "outputs": [],
   "source": [
    "df_ts_in_1721 = MERGE(df_ts_in_1719,df_ts_in_1921)"
   ]
  },
  {
   "cell_type": "code",
   "execution_count": null,
   "metadata": {},
   "outputs": [],
   "source": [
    "df_ts_out_1721 = MERGE(df_ts_out_1719,df_ts_out_1921)"
   ]
  },
  {
   "cell_type": "code",
   "execution_count": null,
   "metadata": {},
   "outputs": [],
   "source": [
    "df_ts_in_1721.to_csv('E:\\Data\\divvy/df_ts_in_1721.csv')\n",
    "df_ts_out_1721.to_csv('E:\\Data\\divvy/df_ts_out_1721.csv')"
   ]
  },
  {
   "cell_type": "markdown",
   "metadata": {},
   "source": [
    "### Including all data"
   ]
  },
  {
   "cell_type": "code",
   "execution_count": null,
   "metadata": {},
   "outputs": [],
   "source": [
    "set_1719 = set(df_ts_in_1719.columns)\n",
    "set_1921 = set(df_ts_out_1921.columns)"
   ]
  },
  {
   "cell_type": "code",
   "execution_count": null,
   "metadata": {},
   "outputs": [],
   "source": [
    "#Introduce missing columns into dataset 1921 \n",
    "for station in set_1719.difference(set_1921):\n",
    "    df_ts_in_1921.insert(0,station,0)\n",
    "    df_ts_out_1921.insert(0,station,0)"
   ]
  },
  {
   "cell_type": "code",
   "execution_count": null,
   "metadata": {},
   "outputs": [],
   "source": [
    "#Introduce missing columns into dataset 1721 \n",
    "for station in set_1921.difference(set_1719):\n",
    "    df_ts_in_1719.insert(0,station,0)\n",
    "    df_ts_out_1719.insert(0,station,0)"
   ]
  },
  {
   "cell_type": "code",
   "execution_count": null,
   "metadata": {},
   "outputs": [],
   "source": [
    "def MERGE(df_a,df_b):\n",
    "    df_b = df_b[df_a.columns].query('time_stamp > \"2019-09-30 23:40:00\"').set_index('time_stamp',drop=True)\n",
    "    df_a = df_a.set_index('time_stamp',drop=True)\n",
    "    return pd.concat([df_a,df_b])"
   ]
  },
  {
   "cell_type": "code",
   "execution_count": null,
   "metadata": {},
   "outputs": [],
   "source": [
    "df_ts_in_1721 = MERGE(df_ts_in_1719,df_ts_in_1921)"
   ]
  },
  {
   "cell_type": "code",
   "execution_count": null,
   "metadata": {},
   "outputs": [],
   "source": [
    "df_ts_out_1721 = MERGE(df_ts_out_1719,df_ts_out_1921)"
   ]
  },
  {
   "cell_type": "code",
   "execution_count": null,
   "metadata": {},
   "outputs": [],
   "source": [
    "df_ts_in_1721.to_csv('E:\\Data\\divvy/df_ts_in_1721_full.csv')\n",
    "df_ts_out_1721.to_csv('E:\\Data\\divvy/df_ts_out_1721_full.csv')"
   ]
  },
  {
   "cell_type": "code",
   "execution_count": null,
   "metadata": {},
   "outputs": [],
   "source": [
    "df_ts_in_1721.head()"
   ]
  },
  {
   "cell_type": "code",
   "execution_count": null,
   "metadata": {},
   "outputs": [],
   "source": [
    "df_ts_out_1721.head()"
   ]
  }
 ],
 "metadata": {
  "interpreter": {
   "hash": "01db3f9c0a93da5e24049b5a0a9f3aab8ac93704067afbc402ff1a6ee3910303"
  },
  "kernelspec": {
   "display_name": "Python 3.8.0 ('msca')",
   "language": "python",
   "name": "python3"
  },
  "language_info": {
   "codemirror_mode": {
    "name": "ipython",
    "version": 3
   },
   "file_extension": ".py",
   "mimetype": "text/x-python",
   "name": "python",
   "nbconvert_exporter": "python",
   "pygments_lexer": "ipython3",
   "version": "3.8.0"
  },
  "orig_nbformat": 4
 },
 "nbformat": 4,
 "nbformat_minor": 2
}
